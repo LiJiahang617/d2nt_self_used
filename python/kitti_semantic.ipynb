{
 "cells": [
  {
   "cell_type": "code",
   "execution_count": 1,
   "metadata": {
    "collapsed": true
   },
   "outputs": [
    {
     "name": "stdout",
     "output_type": "stream",
     "text": [
      "处理完成。\n"
     ]
    }
   ],
   "source": [
    "import os\n",
    "\n",
    "# 定义源目录和目标目录\n",
    "source_dir = '/media/ljh/Kobe24/KITTI_Semantic/calib_cam_to_cam_training'\n",
    "target_dir = '/media/ljh/Kobe24/KITTI_Semantic/intrinsics'\n",
    "\n",
    "# 确保目标目录存在\n",
    "os.makedirs(target_dir, exist_ok=True)\n",
    "\n",
    "# 遍历源目录中的所有文件\n",
    "for file_name in os.listdir(source_dir):\n",
    "    if file_name.endswith('.txt'):\n",
    "        # 构建完整的文件路径\n",
    "        source_file_path = os.path.join(source_dir, file_name)\n",
    "\n",
    "        # 读取文件内容\n",
    "        with open(source_file_path, 'r') as file:\n",
    "            lines = file.readlines()\n",
    "\n",
    "        # 查找P_rect_00行并提取数据\n",
    "        for line in lines:\n",
    "            if line.startswith('P_rect_00:'):\n",
    "                # 提取P_rect_00行的数据\n",
    "                p_rect_00_data = line.split(': ')[1].strip()\n",
    "\n",
    "                # 分割数据\n",
    "                p_rect_00_values = p_rect_00_data.split()\n",
    "\n",
    "                # 从3x4矩阵中提取3x3内参矩阵需要的值\n",
    "                # 注意：我们提取1, 2, 4, 5, 8, 9号元素（基于0索引）\n",
    "                indices = [0, 1, 2, 4, 5, 6]\n",
    "                values_to_use = [p_rect_00_values[i] for i in indices]\n",
    "\n",
    "                # 格式化数据，这次确保我们从3x4矩阵中正确地提取了3x3矩阵的值\n",
    "                formatted_values = \" \".join(f\"{float(value):.4f}\" for value in values_to_use) + \" 0.0 0.0 1.0\"\n",
    "\n",
    "                # 写入目标文件\n",
    "                target_file_path = os.path.join(target_dir, file_name)\n",
    "                with open(target_file_path, 'w') as target_file:\n",
    "                    target_file.write(formatted_values + '\\n')\n",
    "\n",
    "                # 处理完当前文件，继续下一个\n",
    "                break\n",
    "\n",
    "print(\"处理完成。\")\n"
   ]
  }
 ],
 "metadata": {
  "kernelspec": {
   "display_name": "Python 3",
   "language": "python",
   "name": "python3"
  },
  "language_info": {
   "codemirror_mode": {
    "name": "ipython",
    "version": 2
   },
   "file_extension": ".py",
   "mimetype": "text/x-python",
   "name": "python",
   "nbconvert_exporter": "python",
   "pygments_lexer": "ipython2",
   "version": "2.7.6"
  }
 },
 "nbformat": 4,
 "nbformat_minor": 0
}
